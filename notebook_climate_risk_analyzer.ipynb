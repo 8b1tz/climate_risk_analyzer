{
  "nbformat": 4,
  "nbformat_minor": 0,
  "metadata": {
    "colab": {
      "provenance": []
    },
    "kernelspec": {
      "name": "python3",
      "display_name": "Python 3"
    },
    "language_info": {
      "name": "python"
    }
  },
  "cells": [
    {
      "cell_type": "markdown",
      "source": [
        "Perspectivas sobre Clima Extremo e Desastres Naturais\n",
        "\n",
        "## Visão Geral\n",
        "Esta é uma ferramenta abrangente projetada para fornecer análises aprofundadas e insights sobre condições climáticas extremas e riscos de desastres naturais. Utilizando técnicas avançadas de análise de dados e visualização, este projeto visa capacitar os usuários com o conhecimento para tomar decisões informadas diante das incertezas climáticas.\n",
        "\n",
        "Este projeto foi desenvolvido durante a Imersão Alura I.A, demonstrando a aplicação prática de inteligência artificial na análise de dados climáticos."
      ],
      "metadata": {
        "id": "LyhBIrZmBK9-"
      }
    },
    {
      "cell_type": "markdown",
      "source": [
        "### Trecho de código é responsável pela instalação dos pacotes necessários para executar o projeto."
      ],
      "metadata": {
        "id": "TKMf8vAB-3Tn"
      }
    },
    {
      "cell_type": "code",
      "execution_count": 1,
      "metadata": {
        "colab": {
          "base_uri": "https://localhost:8080/"
        },
        "id": "QSuaffiDAsOg",
        "outputId": "43b31d8d-0497-4266-d490-5fdcfe9f8804"
      },
      "outputs": [
        {
          "output_type": "stream",
          "name": "stdout",
          "text": [
            "Requirement already satisfied: requests in /usr/local/lib/python3.10/dist-packages (2.31.0)\n",
            "Collecting fpdf2\n",
            "  Downloading fpdf2-2.7.8-py2.py3-none-any.whl (203 kB)\n",
            "\u001b[2K     \u001b[90m━━━━━━━━━━━━━━━━━━━━━━━━━━━━━━━━━━━━━━━━\u001b[0m \u001b[32m203.7/203.7 kB\u001b[0m \u001b[31m2.8 MB/s\u001b[0m eta \u001b[36m0:00:00\u001b[0m\n",
            "\u001b[?25hRequirement already satisfied: charset-normalizer<4,>=2 in /usr/local/lib/python3.10/dist-packages (from requests) (3.3.2)\n",
            "Requirement already satisfied: idna<4,>=2.5 in /usr/local/lib/python3.10/dist-packages (from requests) (3.7)\n",
            "Requirement already satisfied: urllib3<3,>=1.21.1 in /usr/local/lib/python3.10/dist-packages (from requests) (2.0.7)\n",
            "Requirement already satisfied: certifi>=2017.4.17 in /usr/local/lib/python3.10/dist-packages (from requests) (2024.2.2)\n",
            "Requirement already satisfied: defusedxml in /usr/local/lib/python3.10/dist-packages (from fpdf2) (0.7.1)\n",
            "Requirement already satisfied: Pillow!=9.2.*,>=6.2.2 in /usr/local/lib/python3.10/dist-packages (from fpdf2) (9.4.0)\n",
            "Requirement already satisfied: fonttools>=4.34.0 in /usr/local/lib/python3.10/dist-packages (from fpdf2) (4.51.0)\n",
            "Installing collected packages: fpdf2\n",
            "Successfully installed fpdf2-2.7.8\n"
          ]
        }
      ],
      "source": [
        "!pip install requests fpdf2\n",
        "!pip install -q -U google-generativeai"
      ]
    },
    {
      "cell_type": "markdown",
      "source": [
        "### Trecho de código é responsável pela importação de bibliotecas"
      ],
      "metadata": {
        "id": "xImcWNDz_tWT"
      }
    },
    {
      "cell_type": "code",
      "source": [
        "from datetime import datetime\n",
        "\n",
        "import google.generativeai as genai\n",
        "import matplotlib.pyplot as plt\n",
        "import requests\n",
        "import os\n",
        "from fpdf import FPDF\n",
        "from google.colab import userdata\n"
      ],
      "metadata": {
        "id": "XIrOYvfYBMtk"
      },
      "execution_count": 2,
      "outputs": []
    },
    {
      "cell_type": "markdown",
      "source": [
        "### Responsável pela configuração da inteligência artificial (IA) fornecida pela Google. Ao instalar a biblioteca google-generativeai"
      ],
      "metadata": {
        "id": "aZHQimInAOA-"
      }
    },
    {
      "cell_type": "code",
      "source": [
        "api_key = userdata.get('API_KEY')\n",
        "genai.configure(api_key=api_key)\n",
        "\n",
        "generation_config = {\n",
        "    \"candidate_count\": 1,\n",
        "    \"temperature\": 0.5,\n",
        "}\n",
        "\n",
        "\n",
        "safety_settings = [\n",
        "  {\n",
        "    \"category\": \"HARM_CATEGORY_HARASSMENT\",\n",
        "    \"threshold\": \"BLOCK_MEDIUM_AND_ABOVE\"\n",
        "  },\n",
        "  {\n",
        "    \"category\": \"HARM_CATEGORY_HATE_SPEECH\",\n",
        "    \"threshold\": \"BLOCK_MEDIUM_AND_ABOVE\"\n",
        "  },\n",
        "  {\n",
        "    \"category\": \"HARM_CATEGORY_SEXUALLY_EXPLICIT\",\n",
        "    \"threshold\": \"BLOCK_MEDIUM_AND_ABOVE\"\n",
        "  },\n",
        "  {\n",
        "    \"category\": \"HARM_CATEGORY_DANGEROUS_CONTENT\",\n",
        "    \"threshold\": \"BLOCK_MEDIUM_AND_ABOVE\"\n",
        "  },\n",
        "]\n"
      ],
      "metadata": {
        "id": "CNdTu15GBW8Q"
      },
      "execution_count": 3,
      "outputs": []
    },
    {
      "cell_type": "markdown",
      "source": [
        "# Geração de Relatório de Riscos Climáticos\n",
        "\n",
        "Este bloco de código é responsável por criar um relatório de riscos climáticos em formato PDF. Ele define uma classe `PDF` personalizada para configurar o cabeçalho e rodapé do documento, limpa o conteúdo de marcações Markdown, gera um gráfico de temperatura versus tempo com base nos dados fornecidos e, finalmente, compila tudo em um arquivo PDF estruturado e formatado.\n",
        "\n",
        "- `class PDF(FPDF)`: Define o layout do PDF, incluindo cabeçalho e rodapé.\n",
        "- `clean_markdown(content)`: Remove símbolos de Markdown do texto.\n",
        "- `create_temperature_graph(hourly_data, temperature_data)`: Cria um gráfico visualizando a variação da temperatura ao longo do tempo.\n",
        "- `create_pdf(info, content)`: Compila as informações e o gráfico em um PDF e salva o arquivo."
      ],
      "metadata": {
        "id": "C7D4KRdoAyje"
      }
    },
    {
      "cell_type": "code",
      "source": [
        "class PDF(FPDF):\n",
        "    def header(self):\n",
        "        self.set_font('Arial', 'B', 16)\n",
        "        self.cell(0, 10, 'Relatório de Riscos', 0, 1, 'C')\n",
        "        if self.page_no() == 1:\n",
        "            self.image('./static/logo.png', 10, 8, 33)\n",
        "        self.ln(10)\n",
        "\n",
        "    def footer(self):\n",
        "        self.set_y(-15)\n",
        "        self.set_font('Arial', 'I', 8)\n",
        "        self.cell(0, 10, f'Página {self.page_no()}', 0, 0, 'C')\n",
        "\n",
        "\n",
        "def clean_markdown(content):\n",
        "    content = content.replace('*', '').replace('#', '')\n",
        "    return content\n",
        "\n",
        "\n",
        "def create_temperature_graph(hourly_data, temperature_data):\n",
        "    time_dt = [datetime.fromisoformat(t) for t in hourly_data['time']]\n",
        "\n",
        "    plt.figure(figsize=(10, 6))\n",
        "    plt.plot(time_dt, temperature_data, marker='o', linestyle='-', color='b')\n",
        "    plt.xlabel('Hora')\n",
        "    plt.ylabel('Temperatura (°C)')\n",
        "    plt.title('Variação da Temperatura ao Longo do Tempo')\n",
        "    plt.grid(True)\n",
        "    plt.xticks(rotation=45)\n",
        "    plt.tight_layout()\n",
        "\n",
        "    graph_filename = 'temperatura_vs_tempo.png'\n",
        "    plt.savefig(graph_filename)\n",
        "    plt.close()\n",
        "    return graph_filename\n",
        "\n",
        "\n",
        "def create_pdf(info, content):\n",
        "    pdf = PDF()\n",
        "    pdf.add_page()\n",
        "\n",
        "    pdf.set_font(\"Arial\", 'B', 14)\n",
        "    pdf.set_fill_color(230, 240, 255)\n",
        "\n",
        "    pdf.cell(0, 10, txt=f\"Nome da Localidade: {info['city']}\", ln=True, fill=True)\n",
        "    pdf.cell(0, 10, txt=f\"Data de Criação: {datetime.now().strftime('%Y-%m-%d %H:%M:%S')}\", ln=True)\n",
        "\n",
        "    pdf.set_font(\"Arial\", size=12)\n",
        "\n",
        "    cleaned_content = clean_markdown(content)\n",
        "    pdf.multi_cell(0, 10, txt=cleaned_content)\n",
        "\n",
        "    graph_filename = create_temperature_graph(info['hourly'], info['hourly']['temperature_2m'])\n",
        "    pdf.image(graph_filename, x=10, y=None, w=190)\n",
        "\n",
        "    if not os.path.exists('generated_pdf'):\n",
        "        os.makedirs('generated_pdf')\n",
        "\n",
        "    pdf_file_name = f'generated_pdf/Relatorio_riscos_{info[\"latitude\"]}_{info[\"longitude\"]}_{datetime.now().strftime(\"%Y%m%d_%H%M%S\")}.pdf'\n",
        "\n",
        "    pdf.output(pdf_file_name)\n",
        ""
      ],
      "metadata": {
        "id": "6_G2GW3IBbm9"
      },
      "execution_count": 21,
      "outputs": []
    },
    {
      "cell_type": "markdown",
      "source": [
        "# Obtenção de Localização por IP\n",
        "\n",
        "A função `get_location_by_ip` é utilizada para obter a localização geográfica do usuário com base no endereço IP atual. Ela faz uma solicitação à API `ip-api.com` e, em caso de sucesso, retorna um dicionário contendo a latitude, longitude e cidade. Se ocorrer um erro na solicitação, uma mensagem de erro é exibida e a função retorna `None`.\n"
      ],
      "metadata": {
        "id": "xACiNdTwA09E"
      }
    },
    {
      "cell_type": "code",
      "source": [
        "def get_location_by_ip():\n",
        "    try:\n",
        "        response = requests.get('http://ip-api.com/json')\n",
        "        response.raise_for_status()\n",
        "        data = response.json()\n",
        "        return {\n",
        "            'latitude': data.get('lat'),\n",
        "            'longitude': data.get('lon'),\n",
        "            'city': data.get('city')\n",
        "        }\n",
        "    except requests.RequestException as e:\n",
        "        print(f'Erro ao obter localização por IP: {e}')\n",
        "        return None\n"
      ],
      "metadata": {
        "id": "4mxyvrZ6BccL"
      },
      "execution_count": 22,
      "outputs": []
    },
    {
      "cell_type": "markdown",
      "source": [
        "# Recuperação de Dados Meteorológicos\n",
        "\n",
        "A função `get_weather_data` é projetada para recuperar dados meteorológicos com base em coordenadas geográficas específicas. Ela realiza uma solicitação GET para a API Open-Meteo, solicitando previsões horárias de temperatura. Se a solicitação for bem-sucedida, a função retorna os dados em formato JSON. Caso contrário, ela captura a exceção, imprime uma mensagem de erro e retorna `None`.\n"
      ],
      "metadata": {
        "id": "bDto95-UA_Ni"
      }
    },
    {
      "cell_type": "code",
      "source": [
        "def get_weather_data(latitude, longitude):\n",
        "    try:\n",
        "        weather_api_url = f'https://api.open-meteo.com/v1/forecast?latitude={latitude}&longitude={longitude}&hourly=temperature_2m'\n",
        "        response = requests.get(weather_api_url)\n",
        "        response.raise_for_status()\n",
        "        return response.json()\n",
        "    except requests.RequestException as e:\n",
        "        print(f'Erro ao obter dados da API de previsão do tempo: {e}')\n",
        "        return None\n"
      ],
      "metadata": {
        "id": "J53iOfkxBdwl"
      },
      "execution_count": 23,
      "outputs": []
    },
    {
      "cell_type": "markdown",
      "source": [
        "# Criação de instrução\n",
        "\n",
        "A função `instruction_ia` é projetada para gerar uma instrução que guiará a criação de um relatório profissional, utilizando as informações fornecidas.\n"
      ],
      "metadata": {
        "id": "OBm1FqA3BJOf"
      }
    },
    {
      "cell_type": "code",
      "source": [
        "def instruction_ia(info):\n",
        "  instruction = (\n",
        "      \"Utilize as seguintes informações para criar um relatório profissional, destacando os seguintes tópicos:\\n\\n\"\n",
        "      f\"    Latitude: {info['latitude']}\\n\"\n",
        "      f\"    Longitude: {info['longitude']}\\n\"\n",
        "      f\"    Tempo de Geração (ms): {info['generationtime_ms']}\\n\"\n",
        "      f\"    Deslocamento UTC (segundos): {info['utc_offset_seconds']}\\n\"\n",
        "      f\"    Fuso Horário: {info['timezone']}\\n\"\n",
        "      f\"    Abreviação do Fuso Horário: {info['timezone_abbreviation']}\\n\"\n",
        "      f\"    Elevação: {info['elevation']}\\n\\n\"\n",
        "      \"O relatório deve abordar os seguintes aspectos:\\n\\n\"\n",
        "      \"    Riscos: Identificação de possíveis perigos ou ameaças na região relacionados a DESASTRES NATURAIS.\\n\"\n",
        "      \"    Condições Climáticas Extremas: Avaliação de temperaturas extremas, ventos fortes, ou outras condições meteorológicas adversas.\\n\"\n",
        "      \"    Medidas de Prevenção: Sugestões de ações preventivas que os usuários podem adotar para se protegerem desses Riscos e Condições.\\n\"\n",
        "  )\n",
        "  return instruction\n"
      ],
      "metadata": {
        "id": "P1NVcBoYBe9D"
      },
      "execution_count": 24,
      "outputs": []
    },
    {
      "cell_type": "markdown",
      "source": [
        "# Geração de Relatório Meteorológico Automatizado\n",
        "\n",
        "Este trecho de código é responsável por automatizar a geração de um relatório meteorológico profissional."
      ],
      "metadata": {
        "id": "Rra3CthWCMtr"
      }
    },
    {
      "cell_type": "code",
      "source": [
        "location_info = get_location_by_ip()\n",
        "if location_info:\n",
        "    info = get_weather_data(\n",
        "        location_info['latitude'],\n",
        "        location_info['longitude']\n",
        "    )\n",
        "\n",
        "    info['city'] = location_info['city']\n",
        "    model = genai.GenerativeModel(\n",
        "      model_name=\"gemini-1.5-pro-latest\",\n",
        "      generation_config=generation_config,\n",
        "      safety_settings=safety_settings\n",
        "    )\n",
        "\n",
        "    content = model.generate_content(instruction_ia(info))\n",
        "\n",
        "    content_text = content._result.candidates[0].content.parts[0].text\n",
        "    create_pdf(info, content_text)"
      ],
      "metadata": {
        "id": "E3hB8Kx0BhB3",
        "colab": {
          "base_uri": "https://localhost:8080/",
          "height": 443
        },
        "outputId": "7b652678-afec-4287-c046-633b49935ee9"
      },
      "execution_count": 25,
      "outputs": [
        {
          "output_type": "stream",
          "name": "stderr",
          "text": [
            "<ipython-input-21-b1a86abcd2a6>:3: DeprecationWarning: Substituting font arial by core font helvetica - This is deprecated since v2.7.8, and will soon be removed\n",
            "  self.set_font('Arial', 'B', 16)\n",
            "<ipython-input-21-b1a86abcd2a6>:4: DeprecationWarning: The parameter \"ln\" is deprecated since v2.5.2. Instead of ln=1 use new_x=XPos.LMARGIN, new_y=YPos.NEXT.\n",
            "  self.cell(0, 10, 'Relatório de Riscos', 0, 1, 'C')\n",
            "<ipython-input-21-b1a86abcd2a6>:42: DeprecationWarning: Substituting font arial by core font helvetica - This is deprecated since v2.7.8, and will soon be removed\n",
            "  pdf.set_font(\"Arial\", 'B', 14)\n",
            "<ipython-input-21-b1a86abcd2a6>:45: DeprecationWarning: The parameter \"txt\" has been renamed to \"text\" in 2.7.6\n",
            "  pdf.cell(0, 10, txt=f\"Nome da Localidade: {info['city']}\", ln=True, fill=True)\n",
            "<ipython-input-21-b1a86abcd2a6>:45: DeprecationWarning: The parameter \"ln\" is deprecated since v2.5.2. Instead of ln=True use new_x=XPos.LMARGIN, new_y=YPos.NEXT.\n",
            "  pdf.cell(0, 10, txt=f\"Nome da Localidade: {info['city']}\", ln=True, fill=True)\n",
            "<ipython-input-21-b1a86abcd2a6>:46: DeprecationWarning: The parameter \"txt\" has been renamed to \"text\" in 2.7.6\n",
            "  pdf.cell(0, 10, txt=f\"Data de Criação: {datetime.now().strftime('%Y-%m-%d %H:%M:%S')}\", ln=True)\n",
            "<ipython-input-21-b1a86abcd2a6>:46: DeprecationWarning: The parameter \"ln\" is deprecated since v2.5.2. Instead of ln=True use new_x=XPos.LMARGIN, new_y=YPos.NEXT.\n",
            "  pdf.cell(0, 10, txt=f\"Data de Criação: {datetime.now().strftime('%Y-%m-%d %H:%M:%S')}\", ln=True)\n",
            "<ipython-input-21-b1a86abcd2a6>:48: DeprecationWarning: Substituting font arial by core font helvetica - This is deprecated since v2.7.8, and will soon be removed\n",
            "  pdf.set_font(\"Arial\", size=12)\n",
            "<ipython-input-21-b1a86abcd2a6>:51: DeprecationWarning: The parameter \"txt\" has been renamed to \"text\" in 2.7.6\n",
            "  pdf.multi_cell(0, 10, txt=cleaned_content)\n",
            "<ipython-input-21-b1a86abcd2a6>:11: DeprecationWarning: Substituting font arial by core font helvetica - This is deprecated since v2.7.8, and will soon be removed\n",
            "  self.set_font('Arial', 'I', 8)\n",
            "<ipython-input-21-b1a86abcd2a6>:12: DeprecationWarning: The parameter \"ln\" is deprecated since v2.5.2. Instead of ln=0 use new_x=XPos.RIGHT, new_y=YPos.TOP.\n",
            "  self.cell(0, 10, f'Página {self.page_no()}', 0, 0, 'C')\n"
          ]
        }
      ]
    }
  ]
}