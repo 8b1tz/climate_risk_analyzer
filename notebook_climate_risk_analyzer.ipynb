{
  "cells": [
    {
      "cell_type": "markdown",
      "metadata": {
        "id": "LyhBIrZmBK9-"
      },
      "source": [
        "Perspectivas sobre Clima Extremo e Desastres Naturais\n",
        "\n",
        "## Visão Geral\n",
        "Esta é uma ferramenta abrangente projetada para fornecer análises aprofundadas e insights sobre condições climáticas extremas e riscos de desastres naturais. Utilizando técnicas avançadas de análise de dados e visualização, este projeto visa capacitar os usuários com o conhecimento para tomar decisões informadas diante das incertezas climáticas.\n",
        "\n",
        "Este projeto foi desenvolvido durante a Imersão Alura I.A, demonstrando a aplicação prática de inteligência artificial na análise de dados climáticos."
      ]
    },
    {
      "cell_type": "markdown",
      "metadata": {
        "id": "TKMf8vAB-3Tn"
      },
      "source": [
        "### Trecho de código é responsável pela instalação dos pacotes necessários para executar o projeto."
      ]
    },
    {
      "cell_type": "code",
      "execution_count": 1,
      "metadata": {
        "colab": {
          "base_uri": "https://localhost:8080/",
          "height": 0
        },
        "id": "QSuaffiDAsOg",
        "outputId": "9fae531c-7bf8-42ae-99be-1b3c24d19549"
      },
      "outputs": [
        {
          "name": "stdout",
          "output_type": "stream",
          "text": [
            "Defaulting to user installation because normal site-packages is not writeable\n",
            "Requirement already satisfied: requests in c:\\users\\user\\appdata\\roaming\\python\\python38\\site-packages (2.31.0)\n",
            "Collecting fpdf2\n",
            "  Downloading fpdf2-2.7.8-py2.py3-none-any.whl.metadata (57 kB)\n",
            "     ---------------------------------------- 0.0/57.2 kB ? eta -:--:--\n",
            "     ---------------------------------------- 57.2/57.2 kB 3.1 MB/s eta 0:00:00\n",
            "Requirement already satisfied: charset-normalizer<4,>=2 in c:\\users\\user\\appdata\\roaming\\python\\python38\\site-packages (from requests) (3.3.2)\n",
            "Requirement already satisfied: idna<4,>=2.5 in c:\\users\\user\\appdata\\roaming\\python\\python38\\site-packages (from requests) (3.6)\n",
            "Requirement already satisfied: urllib3<3,>=1.21.1 in c:\\users\\user\\appdata\\roaming\\python\\python38\\site-packages (from requests) (2.1.0)\n",
            "Requirement already satisfied: certifi>=2017.4.17 in c:\\users\\user\\appdata\\roaming\\python\\python38\\site-packages (from requests) (2023.7.22)\n",
            "Collecting defusedxml (from fpdf2)\n",
            "  Downloading defusedxml-0.7.1-py2.py3-none-any.whl.metadata (32 kB)\n",
            "Requirement already satisfied: Pillow!=9.2.*,>=6.2.2 in c:\\users\\user\\appdata\\roaming\\python\\python38\\site-packages (from fpdf2) (10.1.0)\n",
            "Collecting fonttools>=4.34.0 (from fpdf2)\n",
            "  Downloading fonttools-4.51.0-cp38-cp38-win_amd64.whl.metadata (162 kB)\n",
            "     ---------------------------------------- 0.0/162.8 kB ? eta -:--:--\n",
            "     -------------------------------------- 162.8/162.8 kB 9.5 MB/s eta 0:00:00\n",
            "Downloading fpdf2-2.7.8-py2.py3-none-any.whl (203 kB)\n",
            "   ---------------------------------------- 0.0/203.7 kB ? eta -:--:--\n",
            "   ---------------------------------------- 203.7/203.7 kB ? eta 0:00:00\n",
            "Downloading fonttools-4.51.0-cp38-cp38-win_amd64.whl (1.5 MB)\n",
            "   ---------------------------------------- 0.0/1.5 MB ? eta -:--:--\n",
            "   ---------------------------------------- 1.5/1.5 MB 48.4 MB/s eta 0:00:00\n",
            "Downloading defusedxml-0.7.1-py2.py3-none-any.whl (25 kB)\n",
            "Installing collected packages: fonttools, defusedxml, fpdf2\n",
            "Successfully installed defusedxml-0.7.1 fonttools-4.51.0 fpdf2-2.7.8\n"
          ]
        },
        {
          "name": "stderr",
          "output_type": "stream",
          "text": [
            "WARNING: pip is being invoked by an old script wrapper. This will fail in a future version of pip.\n",
            "Please see https://github.com/pypa/pip/issues/5599 for advice on fixing the underlying issue.\n",
            "To avoid this problem you can invoke Python with '-m pip' instead of running pip directly.\n",
            "  WARNING: The scripts fonttools.exe, pyftmerge.exe, pyftsubset.exe and ttx.exe are installed in 'C:\\Users\\user\\AppData\\Roaming\\Python\\Python38\\Scripts' which is not on PATH.\n",
            "  Consider adding this directory to PATH or, if you prefer to suppress this warning, use --no-warn-script-location.\n",
            "\n",
            "[notice] A new release of pip is available: 23.3.1 -> 24.0\n",
            "[notice] To update, run: c:\\program files\\python38\\python.exe -m pip install --upgrade pip\n",
            "WARNING: pip is being invoked by an old script wrapper. This will fail in a future version of pip.\n",
            "Please see https://github.com/pypa/pip/issues/5599 for advice on fixing the underlying issue.\n",
            "To avoid this problem you can invoke Python with '-m pip' instead of running pip directly.\n",
            "  WARNING: The scripts pyrsa-decrypt.exe, pyrsa-encrypt.exe, pyrsa-keygen.exe, pyrsa-priv2pub.exe, pyrsa-sign.exe and pyrsa-verify.exe are installed in 'C:\\Users\\user\\AppData\\Roaming\\Python\\Python38\\Scripts' which is not on PATH.\n",
            "  Consider adding this directory to PATH or, if you prefer to suppress this warning, use --no-warn-script-location.\n",
            "\n",
            "[notice] A new release of pip is available: 23.3.1 -> 24.0\n",
            "[notice] To update, run: c:\\program files\\python38\\python.exe -m pip install --upgrade pip\n"
          ]
        }
      ],
      "source": [
        "!pip install requests fpdf2\n",
        "!pip install -q -U google-generativeai"
      ]
    },
    {
      "cell_type": "markdown",
      "metadata": {
        "id": "xImcWNDz_tWT"
      },
      "source": [
        "### Trecho de código é responsável pela importação de bibliotecas"
      ]
    },
    {
      "cell_type": "code",
      "execution_count": 2,
      "metadata": {
        "id": "XIrOYvfYBMtk"
      },
      "outputs": [
        {
          "ename": "ModuleNotFoundError",
          "evalue": "No module named 'google'",
          "output_type": "error",
          "traceback": [
            "\u001b[1;31m---------------------------------------------------------------------------\u001b[0m",
            "\u001b[1;31mModuleNotFoundError\u001b[0m                       Traceback (most recent call last)",
            "Cell \u001b[1;32mIn[2], line 3\u001b[0m\n\u001b[0;32m      1\u001b[0m \u001b[38;5;28;01mfrom\u001b[39;00m \u001b[38;5;21;01mdatetime\u001b[39;00m \u001b[38;5;28;01mimport\u001b[39;00m datetime\n\u001b[1;32m----> 3\u001b[0m \u001b[38;5;28;01mimport\u001b[39;00m \u001b[38;5;21;01mgoogle\u001b[39;00m\u001b[38;5;21;01m.\u001b[39;00m\u001b[38;5;21;01mgenerativeai\u001b[39;00m \u001b[38;5;28;01mas\u001b[39;00m \u001b[38;5;21;01mgenai\u001b[39;00m\n\u001b[0;32m      4\u001b[0m \u001b[38;5;28;01mimport\u001b[39;00m \u001b[38;5;21;01mmatplotlib\u001b[39;00m\u001b[38;5;21;01m.\u001b[39;00m\u001b[38;5;21;01mpyplot\u001b[39;00m \u001b[38;5;28;01mas\u001b[39;00m \u001b[38;5;21;01mplt\u001b[39;00m\n\u001b[0;32m      5\u001b[0m \u001b[38;5;28;01mimport\u001b[39;00m \u001b[38;5;21;01mrequests\u001b[39;00m\n",
            "\u001b[1;31mModuleNotFoundError\u001b[0m: No module named 'google'"
          ]
        }
      ],
      "source": [
        "from datetime import datetime\n",
        "\n",
        "import google.generativeai as genai\n",
        "import matplotlib.pyplot as plt\n",
        "import requests\n",
        "import os\n",
        "from fpdf import FPDF\n",
        "from google.colab import userdata\n"
      ]
    },
    {
      "cell_type": "markdown",
      "metadata": {
        "id": "aZHQimInAOA-"
      },
      "source": [
        "### Responsável pela configuração da inteligência artificial (IA) fornecida pela Google. Ao instalar a biblioteca google-generativeai"
      ]
    },
    {
      "cell_type": "code",
      "execution_count": 5,
      "metadata": {
        "id": "CNdTu15GBW8Q"
      },
      "outputs": [],
      "source": [
        "api_key = userdata.get('API_KEY')\n",
        "genai.configure(api_key=api_key)\n",
        "\n",
        "generation_config = {\n",
        "    \"candidate_count\": 1,\n",
        "    \"temperature\": 0.5,\n",
        "}\n",
        "\n",
        "\n",
        "safety_settings = [\n",
        "  {\n",
        "    \"category\": \"HARM_CATEGORY_HARASSMENT\",\n",
        "    \"threshold\": \"BLOCK_MEDIUM_AND_ABOVE\"\n",
        "  },\n",
        "  {\n",
        "    \"category\": \"HARM_CATEGORY_HATE_SPEECH\",\n",
        "    \"threshold\": \"BLOCK_MEDIUM_AND_ABOVE\"\n",
        "  },\n",
        "  {\n",
        "    \"category\": \"HARM_CATEGORY_SEXUALLY_EXPLICIT\",\n",
        "    \"threshold\": \"BLOCK_MEDIUM_AND_ABOVE\"\n",
        "  },\n",
        "  {\n",
        "    \"category\": \"HARM_CATEGORY_DANGEROUS_CONTENT\",\n",
        "    \"threshold\": \"BLOCK_MEDIUM_AND_ABOVE\"\n",
        "  },\n",
        "]\n"
      ]
    },
    {
      "cell_type": "markdown",
      "metadata": {
        "id": "C7D4KRdoAyje"
      },
      "source": [
        "# Geração de Relatório de Riscos Climáticos\n",
        "\n",
        "Este bloco de código é responsável por criar um relatório de riscos climáticos em formato PDF. Ele define uma classe `PDF` personalizada para configurar o cabeçalho e rodapé do documento, limpa o conteúdo de marcações Markdown, gera um gráfico de temperatura versus tempo com base nos dados fornecidos e, finalmente, compila tudo em um arquivo PDF estruturado e formatado.\n",
        "\n",
        "- `class PDF(FPDF)`: Define o layout do PDF, incluindo cabeçalho e rodapé.\n",
        "- `clean_markdown(content)`: Remove símbolos de Markdown do texto.\n",
        "- `create_temperature_graph(hourly_data, temperature_data)`: Cria um gráfico visualizando a variação da temperatura ao longo do tempo.\n",
        "- `create_pdf(info, content)`: Compila as informações e o gráfico em um PDF e salva o arquivo."
      ]
    },
    {
      "cell_type": "code",
      "execution_count": 34,
      "metadata": {
        "id": "6_G2GW3IBbm9"
      },
      "outputs": [],
      "source": [
        "class PDF(FPDF):\n",
        "    def header(self):\n",
        "        self.set_font('Arial', 'B', 16)\n",
        "        self.cell(0, 10, 'Relatório de Riscos', 0, 1, 'C')\n",
        "        if self.page_no() == 1:\n",
        "            self.image('./static/logo.png', 10, 8, 33)\n",
        "        self.ln(10)\n",
        "\n",
        "    def footer(self):\n",
        "        self.set_y(-15)\n",
        "        self.set_font('Arial', 'I', 8)\n",
        "        self.cell(0, 10, f'Página {self.page_no()}', 0, 0, 'C')\n",
        "\n",
        "\n",
        "def clean_markdown(content):\n",
        "    content = content.replace('*', '').replace('#', '')\n",
        "    return content\n",
        "\n",
        "\n",
        "def create_temperature_graph(hourly_data, temperature_data):\n",
        "    time_dt = [datetime.fromisoformat(t) for t in hourly_data['time']]\n",
        "\n",
        "    plt.figure(figsize=(10, 6))\n",
        "    plt.plot(time_dt, temperature_data, marker='o', linestyle='-', color='b')\n",
        "    plt.xlabel('Hora')\n",
        "    plt.ylabel('Temperatura (°C)')\n",
        "    plt.title('Variação da Temperatura ao Longo do Tempo')\n",
        "    plt.grid(True)\n",
        "    plt.xticks(rotation=45)\n",
        "    plt.tight_layout()\n",
        "\n",
        "    graph_filename = 'temperatura_vs_tempo.png'\n",
        "    plt.savefig(graph_filename)\n",
        "    plt.close()\n",
        "    return graph_filename\n",
        "\n",
        "\n",
        "def create_pdf(info, content):\n",
        "    pdf = PDF()\n",
        "    pdf.add_page()\n",
        "\n",
        "    pdf.set_font(\"Arial\", 'B', 14)\n",
        "    pdf.set_fill_color(230, 240, 255)\n",
        "\n",
        "    pdf.cell(0, 10, txt=f\"Nome da Localidade: {info['city']}\", ln=True, fill=True)\n",
        "    pdf.cell(0, 10, txt=f\"Data de Criação: {datetime.now().strftime('%Y-%m-%d %H:%M:%S')}\", ln=True)\n",
        "\n",
        "    pdf.set_font(\"Arial\", size=12)\n",
        "\n",
        "    cleaned_content = clean_markdown(content)\n",
        "    pdf.multi_cell(0, 10, txt=cleaned_content)\n",
        "\n",
        "    graph_filename = create_temperature_graph(info['hourly'], info['hourly']['temperature_2m'])\n",
        "    pdf.image(graph_filename, x=10, y=None, w=190)\n",
        "\n",
        "    if not os.path.exists('generated_pdf'):\n",
        "        os.makedirs('generated_pdf')\n",
        "\n",
        "    pdf_file_name = f'generated_pdf/Relatorio_riscos_{info[\"latitude\"]}_{info[\"longitude\"]}_{datetime.now().strftime(\"%Y%m%d_%H%M%S\")}.pdf'\n",
        "\n",
        "    pdf.output(pdf_file_name)\n"
      ]
    },
    {
      "cell_type": "markdown",
      "metadata": {
        "id": "xACiNdTwA09E"
      },
      "source": [
        "# Obtenção de Localização por IP\n",
        "\n",
        "A função `get_location_by_ip` é utilizada para obter a localização geográfica do usuário com base no endereço IP atual. Ela faz uma solicitação à API `ip-api.com` e, em caso de sucesso, retorna um dicionário contendo a latitude, longitude e cidade. Se ocorrer um erro na solicitação, uma mensagem de erro é exibida e a função retorna `None`.\n"
      ]
    },
    {
      "cell_type": "code",
      "execution_count": 7,
      "metadata": {
        "id": "4mxyvrZ6BccL"
      },
      "outputs": [],
      "source": [
        "def get_location_by_ip():\n",
        "    try:\n",
        "        response = requests.get('http://ip-api.com/json')\n",
        "        response.raise_for_status()\n",
        "        data = response.json()\n",
        "        return {\n",
        "            'latitude': data.get('lat'),\n",
        "            'longitude': data.get('lon'),\n",
        "            'city': data.get('city')\n",
        "        }\n",
        "    except requests.RequestException as e:\n",
        "        print(f'Erro ao obter localização por IP: {e}')\n",
        "        return None\n"
      ]
    },
    {
      "cell_type": "markdown",
      "metadata": {
        "id": "bDto95-UA_Ni"
      },
      "source": [
        "# Recuperação de Dados Meteorológicos\n",
        "\n",
        "A função `get_weather_data` é projetada para recuperar dados meteorológicos com base em coordenadas geográficas específicas. Ela realiza uma solicitação GET para a API Open-Meteo, solicitando previsões horárias de temperatura. Se a solicitação for bem-sucedida, a função retorna os dados em formato JSON. Caso contrário, ela captura a exceção, imprime uma mensagem de erro e retorna `None`.\n"
      ]
    },
    {
      "cell_type": "code",
      "execution_count": 8,
      "metadata": {
        "id": "J53iOfkxBdwl"
      },
      "outputs": [],
      "source": [
        "def get_weather_data(latitude, longitude):\n",
        "    try:\n",
        "        weather_api_url = f'https://api.open-meteo.com/v1/forecast?latitude={latitude}&longitude={longitude}&hourly=temperature_2m'\n",
        "        response = requests.get(weather_api_url)\n",
        "        response.raise_for_status()\n",
        "        return response.json()\n",
        "    except requests.RequestException as e:\n",
        "        print(f'Erro ao obter dados da API de previsão do tempo: {e}')\n",
        "        return None\n"
      ]
    },
    {
      "cell_type": "markdown",
      "metadata": {
        "id": "OBm1FqA3BJOf"
      },
      "source": [
        "# Criação de instrução\n",
        "\n",
        "A função `instruction_ia` é projetada para gerar uma instrução que guiará a criação de um relatório profissional, utilizando as informações fornecidas.\n"
      ]
    },
    {
      "cell_type": "code",
      "execution_count": 9,
      "metadata": {
        "id": "P1NVcBoYBe9D"
      },
      "outputs": [],
      "source": [
        "def instruction_ia(info):\n",
        "  instruction = (\n",
        "      \"Utilize as seguintes informações para criar um relatório profissional, destacando os seguintes tópicos:\\n\\n\"\n",
        "      f\"    Latitude: {info['latitude']}\\n\"\n",
        "      f\"    Longitude: {info['longitude']}\\n\"\n",
        "      f\"    Tempo de Geração (ms): {info['generationtime_ms']}\\n\"\n",
        "      f\"    Deslocamento UTC (segundos): {info['utc_offset_seconds']}\\n\"\n",
        "      f\"    Fuso Horário: {info['timezone']}\\n\"\n",
        "      f\"    Abreviação do Fuso Horário: {info['timezone_abbreviation']}\\n\"\n",
        "      f\"    Elevação: {info['elevation']}\\n\\n\"\n",
        "      \"O relatório deve abordar os seguintes aspectos:\\n\\n\"\n",
        "      \"    Riscos: Identificação de possíveis perigos ou ameaças na região relacionados a DESASTRES NATURAIS.\\n\"\n",
        "      \"    Condições Climáticas Extremas: Avaliação de temperaturas extremas, ventos fortes, ou outras condições meteorológicas adversas.\\n\"\n",
        "      \"    Medidas de Prevenção: Sugestões de ações preventivas que os usuários podem adotar para se protegerem desses Riscos e Condições.\\n\"\n",
        "  )\n",
        "  return instruction\n"
      ]
    },
    {
      "cell_type": "markdown",
      "metadata": {
        "id": "Rra3CthWCMtr"
      },
      "source": [
        "# Geração de Relatório Meteorológico Automatizado\n",
        "\n",
        "Este trecho de código é responsável por automatizar a geração de um relatório meteorológico profissional."
      ]
    },
    {
      "cell_type": "code",
      "execution_count": 35,
      "metadata": {
        "colab": {
          "base_uri": "https://localhost:8080/",
          "height": 461
        },
        "id": "E3hB8Kx0BhB3",
        "outputId": "791de2bd-71fd-413c-e19e-2fe961813cce"
      },
      "outputs": [
        {
          "name": "stdout",
          "output_type": "stream",
          "text": [
            "{'latitude': 38.916836, 'longitude': -77.0195, 'generationtime_ms': 0.030040740966796875, 'utc_offset_seconds': 0, 'timezone': 'GMT', 'timezone_abbreviation': 'GMT', 'elevation': 25.0, 'hourly_units': {'time': 'iso8601', 'temperature_2m': '°C'}, 'hourly': {'time': ['2024-05-11T00:00', '2024-05-11T01:00', '2024-05-11T02:00', '2024-05-11T03:00', '2024-05-11T04:00', '2024-05-11T05:00', '2024-05-11T06:00', '2024-05-11T07:00', '2024-05-11T08:00', '2024-05-11T09:00', '2024-05-11T10:00', '2024-05-11T11:00', '2024-05-11T12:00', '2024-05-11T13:00', '2024-05-11T14:00', '2024-05-11T15:00', '2024-05-11T16:00', '2024-05-11T17:00', '2024-05-11T18:00', '2024-05-11T19:00', '2024-05-11T20:00', '2024-05-11T21:00', '2024-05-11T22:00', '2024-05-11T23:00', '2024-05-12T00:00', '2024-05-12T01:00', '2024-05-12T02:00', '2024-05-12T03:00', '2024-05-12T04:00', '2024-05-12T05:00', '2024-05-12T06:00', '2024-05-12T07:00', '2024-05-12T08:00', '2024-05-12T09:00', '2024-05-12T10:00', '2024-05-12T11:00', '2024-05-12T12:00', '2024-05-12T13:00', '2024-05-12T14:00', '2024-05-12T15:00', '2024-05-12T16:00', '2024-05-12T17:00', '2024-05-12T18:00', '2024-05-12T19:00', '2024-05-12T20:00', '2024-05-12T21:00', '2024-05-12T22:00', '2024-05-12T23:00', '2024-05-13T00:00', '2024-05-13T01:00', '2024-05-13T02:00', '2024-05-13T03:00', '2024-05-13T04:00', '2024-05-13T05:00', '2024-05-13T06:00', '2024-05-13T07:00', '2024-05-13T08:00', '2024-05-13T09:00', '2024-05-13T10:00', '2024-05-13T11:00', '2024-05-13T12:00', '2024-05-13T13:00', '2024-05-13T14:00', '2024-05-13T15:00', '2024-05-13T16:00', '2024-05-13T17:00', '2024-05-13T18:00', '2024-05-13T19:00', '2024-05-13T20:00', '2024-05-13T21:00', '2024-05-13T22:00', '2024-05-13T23:00', '2024-05-14T00:00', '2024-05-14T01:00', '2024-05-14T02:00', '2024-05-14T03:00', '2024-05-14T04:00', '2024-05-14T05:00', '2024-05-14T06:00', '2024-05-14T07:00', '2024-05-14T08:00', '2024-05-14T09:00', '2024-05-14T10:00', '2024-05-14T11:00', '2024-05-14T12:00', '2024-05-14T13:00', '2024-05-14T14:00', '2024-05-14T15:00', '2024-05-14T16:00', '2024-05-14T17:00', '2024-05-14T18:00', '2024-05-14T19:00', '2024-05-14T20:00', '2024-05-14T21:00', '2024-05-14T22:00', '2024-05-14T23:00', '2024-05-15T00:00', '2024-05-15T01:00', '2024-05-15T02:00', '2024-05-15T03:00', '2024-05-15T04:00', '2024-05-15T05:00', '2024-05-15T06:00', '2024-05-15T07:00', '2024-05-15T08:00', '2024-05-15T09:00', '2024-05-15T10:00', '2024-05-15T11:00', '2024-05-15T12:00', '2024-05-15T13:00', '2024-05-15T14:00', '2024-05-15T15:00', '2024-05-15T16:00', '2024-05-15T17:00', '2024-05-15T18:00', '2024-05-15T19:00', '2024-05-15T20:00', '2024-05-15T21:00', '2024-05-15T22:00', '2024-05-15T23:00', '2024-05-16T00:00', '2024-05-16T01:00', '2024-05-16T02:00', '2024-05-16T03:00', '2024-05-16T04:00', '2024-05-16T05:00', '2024-05-16T06:00', '2024-05-16T07:00', '2024-05-16T08:00', '2024-05-16T09:00', '2024-05-16T10:00', '2024-05-16T11:00', '2024-05-16T12:00', '2024-05-16T13:00', '2024-05-16T14:00', '2024-05-16T15:00', '2024-05-16T16:00', '2024-05-16T17:00', '2024-05-16T18:00', '2024-05-16T19:00', '2024-05-16T20:00', '2024-05-16T21:00', '2024-05-16T22:00', '2024-05-16T23:00', '2024-05-17T00:00', '2024-05-17T01:00', '2024-05-17T02:00', '2024-05-17T03:00', '2024-05-17T04:00', '2024-05-17T05:00', '2024-05-17T06:00', '2024-05-17T07:00', '2024-05-17T08:00', '2024-05-17T09:00', '2024-05-17T10:00', '2024-05-17T11:00', '2024-05-17T12:00', '2024-05-17T13:00', '2024-05-17T14:00', '2024-05-17T15:00', '2024-05-17T16:00', '2024-05-17T17:00', '2024-05-17T18:00', '2024-05-17T19:00', '2024-05-17T20:00', '2024-05-17T21:00', '2024-05-17T22:00', '2024-05-17T23:00'], 'temperature_2m': [10.9, 10.5, 10.0, 10.1, 9.9, 9.7, 9.1, 8.7, 8.5, 8.7, 7.9, 8.6, 10.7, 12.0, 13.5, 14.8, 15.9, 15.8, 16.2, 17.6, 17.6, 17.8, 17.6, 16.7, 15.2, 13.8, 12.8, 12.4, 12.3, 11.7, 11.0, 10.6, 10.2, 10.5, 10.9, 11.3, 13.0, 14.4, 15.5, 16.2, 16.1, 16.7, 17.3, 18.6, 18.9, 18.6, 18.9, 18.2, 15.8, 14.1, 13.2, 12.3, 11.4, 10.6, 10.0, 9.7, 9.3, 9.1, 10.3, 10.9, 13.0, 14.9, 17.0, 19.1, 20.9, 22.5, 23.8, 24.7, 25.2, 25.1, 24.5, 22.3, 19.3, 18.1, 17.6, 17.4, 17.2, 17.1, 16.4, 15.8, 15.4, 15.0, 14.8, 15.4, 16.2, 16.4, 16.9, 19.9, 23.2, 22.3, 23.6, 23.0, 23.3, 22.0, 22.0, 19.4, 18.4, 17.9, 18.0, 17.8, 17.7, 17.7, 17.7, 17.6, 17.6, 17.6, 17.5, 17.6, 17.9, 19.2, 19.7, 19.8, 20.0, 20.0, 22.0, 21.2, 19.7, 19.6, 18.3, 17.0, 16.2, 15.9, 15.9, 15.5, 15.6, 15.3, 14.7, 14.1, 13.5, 13.3, 13.5, 14.1, 15.1, 16.7, 18.7, 20.5, 21.6, 22.5, 23.1, 23.5, 23.6, 23.2, 22.0, 20.2, 18.8, 17.9, 17.3, 16.8, 16.3, 15.8, 15.5, 15.2, 15.0, 15.0, 15.1, 15.5, 16.4, 18.3, 20.8, 22.5, 22.6, 22.0, 21.6, 21.8, 22.3, 22.5, 22.0, 21.2]}, 'city': 'Washington'}\n"
          ]
        },
        {
          "name": "stderr",
          "output_type": "stream",
          "text": [
            "<ipython-input-34-361d30ad2d82>:3: DeprecationWarning: Substituting font arial by core font helvetica - This is deprecated since v2.7.8, and will soon be removed\n",
            "  self.set_font('Arial', 'B', 16)\n",
            "<ipython-input-34-361d30ad2d82>:4: DeprecationWarning: The parameter \"ln\" is deprecated since v2.5.2. Instead of ln=1 use new_x=XPos.LMARGIN, new_y=YPos.NEXT.\n",
            "  self.cell(0, 10, 'Relatório de Riscos', 0, 1, 'C')\n",
            "<ipython-input-34-361d30ad2d82>:39: DeprecationWarning: Substituting font arial by core font helvetica - This is deprecated since v2.7.8, and will soon be removed\n",
            "  pdf.set_font(\"Arial\", 'B', 14)\n",
            "<ipython-input-34-361d30ad2d82>:42: DeprecationWarning: The parameter \"txt\" has been renamed to \"text\" in 2.7.6\n",
            "  pdf.cell(0, 10, txt=f\"Nome da Localidade: {info['city']}\", ln=True, fill=True)\n",
            "<ipython-input-34-361d30ad2d82>:42: DeprecationWarning: The parameter \"ln\" is deprecated since v2.5.2. Instead of ln=True use new_x=XPos.LMARGIN, new_y=YPos.NEXT.\n",
            "  pdf.cell(0, 10, txt=f\"Nome da Localidade: {info['city']}\", ln=True, fill=True)\n",
            "<ipython-input-34-361d30ad2d82>:43: DeprecationWarning: The parameter \"txt\" has been renamed to \"text\" in 2.7.6\n",
            "  pdf.cell(0, 10, txt=f\"Data de Criação: {datetime.now().strftime('%Y-%m-%d %H:%M:%S')}\", ln=True)\n",
            "<ipython-input-34-361d30ad2d82>:43: DeprecationWarning: The parameter \"ln\" is deprecated since v2.5.2. Instead of ln=True use new_x=XPos.LMARGIN, new_y=YPos.NEXT.\n",
            "  pdf.cell(0, 10, txt=f\"Data de Criação: {datetime.now().strftime('%Y-%m-%d %H:%M:%S')}\", ln=True)\n",
            "<ipython-input-34-361d30ad2d82>:45: DeprecationWarning: Substituting font arial by core font helvetica - This is deprecated since v2.7.8, and will soon be removed\n",
            "  pdf.set_font(\"Arial\", size=12)\n",
            "<ipython-input-34-361d30ad2d82>:48: DeprecationWarning: The parameter \"txt\" has been renamed to \"text\" in 2.7.6\n",
            "  pdf.multi_cell(0, 10, txt=cleaned_content)\n",
            "<ipython-input-34-361d30ad2d82>:11: DeprecationWarning: Substituting font arial by core font helvetica - This is deprecated since v2.7.8, and will soon be removed\n",
            "  self.set_font('Arial', 'I', 8)\n",
            "<ipython-input-34-361d30ad2d82>:12: DeprecationWarning: The parameter \"ln\" is deprecated since v2.5.2. Instead of ln=0 use new_x=XPos.RIGHT, new_y=YPos.TOP.\n",
            "  self.cell(0, 10, f'Página {self.page_no()}', 0, 0, 'C')\n"
          ]
        }
      ],
      "source": [
        "location_info = get_location_by_ip()\n",
        "if location_info:\n",
        "    info = get_weather_data(\n",
        "        location_info['latitude'],\n",
        "        location_info['longitude']\n",
        "    )\n",
        "\n",
        "    info['city'] = location_info['city']\n",
        "    model = genai.GenerativeModel(\n",
        "      model_name=\"gemini-1.5-pro-latest\",\n",
        "      generation_config=generation_config,\n",
        "      safety_settings=safety_settings\n",
        "    )\n",
        "\n",
        "    content = model.generate_content(instruction_ia(info))\n",
        "\n",
        "    content_text = content._result.candidates[0].content.parts[0].text\n",
        "    create_pdf(info, content_text)"
      ]
    }
  ],
  "metadata": {
    "colab": {
      "provenance": []
    },
    "kernelspec": {
      "display_name": "Python 3",
      "name": "python3"
    },
    "language_info": {
      "codemirror_mode": {
        "name": "ipython",
        "version": 3
      },
      "file_extension": ".py",
      "mimetype": "text/x-python",
      "name": "python",
      "nbconvert_exporter": "python",
      "pygments_lexer": "ipython3",
      "version": "3.11.2"
    }
  },
  "nbformat": 4,
  "nbformat_minor": 0
}
